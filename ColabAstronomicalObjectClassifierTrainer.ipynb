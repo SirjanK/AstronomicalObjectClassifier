{
  "nbformat": 4,
  "nbformat_minor": 0,
  "metadata": {
    "colab": {
      "provenance": [],
      "gpuType": "T4"
    },
    "kernelspec": {
      "name": "python3",
      "display_name": "Python 3"
    },
    "language_info": {
      "name": "python"
    },
    "accelerator": "GPU"
  },
  "cells": [
    {
      "cell_type": "markdown",
      "source": [
        "# Astronomical Object Classifier Trainer\n",
        "Train on Colab with GPU."
      ],
      "metadata": {
        "id": "F5yvLS5lJ8St"
      }
    },
    {
      "cell_type": "markdown",
      "source": [
        "## Setup: Clone Repo, install dependencies, and imports"
      ],
      "metadata": {
        "id": "U8kiWMzmKCkH"
      }
    },
    {
      "cell_type": "code",
      "source": [
        "!git clone https://github.com/SirjanK/AstronomicalObjectClassifier.git"
      ],
      "metadata": {
        "id": "TKxfEcLfKBcK"
      },
      "execution_count": null,
      "outputs": []
    },
    {
      "cell_type": "code",
      "source": [
        "%cd AstronomicalObjectClassifier"
      ],
      "metadata": {
        "id": "SJnGHrq7KH-j"
      },
      "execution_count": null,
      "outputs": []
    },
    {
      "cell_type": "code",
      "source": [
        "!pip install numpy pandas torch torchvision matplotlib tensorboard kagglehub pillow --index-url https://download.pytorch.org/whl/cu121"
      ],
      "metadata": {
        "id": "R_Oar_mmKMvF"
      },
      "execution_count": null,
      "outputs": []
    },
    {
      "cell_type": "code",
      "source": [
        "!nvidia-smi"
      ],
      "metadata": {
        "id": "e3B5-ZoFK5JD"
      },
      "execution_count": null,
      "outputs": []
    },
    {
      "cell_type": "code",
      "source": [
        "# imports\n",
        "%load_ext tensorboard"
      ],
      "metadata": {
        "id": "a8jdtr5DK790"
      },
      "execution_count": null,
      "outputs": []
    },
    {
      "cell_type": "markdown",
      "source": [
        "## Download Data"
      ],
      "metadata": {
        "id": "nLAeywfCLvQF"
      }
    },
    {
      "cell_type": "code",
      "source": [
        "!python download.py"
      ],
      "metadata": {
        "id": "pU969odQMB9X"
      },
      "execution_count": null,
      "outputs": []
    },
    {
      "cell_type": "code",
      "source": [
        "!mkdir data"
      ],
      "metadata": {
        "id": "32Icx1jCM12h"
      },
      "execution_count": null,
      "outputs": []
    },
    {
      "cell_type": "code",
      "source": [
        "!mv /root/.cache/kagglehub/datasets/engeddy/astrophysical-objects-image-dataset/versions/1/astro_dataset_maxia/astro_dataset_maxia/* /content/AstronomicalObjectClassifier/data/"
      ],
      "metadata": {
        "id": "9MglTiQaNC_R"
      },
      "execution_count": null,
      "outputs": []
    },
    {
      "cell_type": "markdown",
      "source": [
        "## Train Model"
      ],
      "metadata": {
        "id": "unoffG48Lmb8"
      }
    },
    {
      "cell_type": "code",
      "source": [
        "# tensorboard\n",
        "%tensorboard --logdir logs --reload_interval 5"
      ],
      "metadata": {
        "id": "K6Lyox-CNpk2"
      },
      "execution_count": null,
      "outputs": []
    },
    {
      "cell_type": "markdown",
      "source": [
        "### Logistic Regression with Semantic Features\n",
        "\n",
        "Actually not recommended to run on Colab. This flow is CPU bound and is way faster on a Mac. We include it here as just an example."
      ],
      "metadata": {
        "id": "DyS-XZ5yNQNj"
      }
    },
    {
      "cell_type": "code",
      "source": [
        "import os\n",
        "os.cpu_count()"
      ],
      "metadata": {
        "id": "pknvP57tQKkX"
      },
      "execution_count": null,
      "outputs": []
    },
    {
      "cell_type": "code",
      "source": [
        "!python trainer.py --data_path data/ --assets_path assets/ --batch_size 32 --num_workers 2 --learning_rate 0.001 --weight_decay 0.0001 --dropout 0 --num_epochs 100 --model logistic_regression --log_dir logs --log_freq 10 --val_freq 5 --smooth_window 100 --name logistic_regression_100_epochs"
      ],
      "metadata": {
        "id": "X4cJMCrrMIJr"
      },
      "execution_count": null,
      "outputs": []
    },
    {
      "cell_type": "code",
      "source": [],
      "metadata": {
        "id": "spNcn6YENeke"
      },
      "execution_count": null,
      "outputs": []
    }
  ]
}